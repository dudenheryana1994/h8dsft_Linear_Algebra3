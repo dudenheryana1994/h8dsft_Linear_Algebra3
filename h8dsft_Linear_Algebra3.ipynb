{
 "cells": [
  {
   "cell_type": "markdown",
   "id": "a9c4a218",
   "metadata": {},
   "source": [
    "# Non Graded Challenge 6\n",
    "\n",
    "_Non-Graded Assignment ini dibuat guna mengevaluasi pembelajaran pada Hacktiv8 Data Science Fulltime Program khususnya pada konsep Linear Algebra._\n",
    "\n",
    "---\n",
    "\n",
    "## Assignment Instructions\n",
    "\n",
    "Apakah $\\begin{bmatrix}1 \\\\3\\end{bmatrix}$ adalah eigenvector dari $\\begin{bmatrix}1 & -1\\\\6 &-4 \\end{bmatrix}$? Jika iya, berapakah eigenvalue-nya?\n",
    "\n",
    "## Assignment Submission\n",
    "\n",
    "- Simpan assignment pada sesi ini dengan nama `h8dsft_Linear_Algebra3`.\n",
    "- Push Assigment yang telah kalian buat ke akun Github kalian masing-masing.\n",
    "\n",
    "## Assignment Objectives\n",
    "\n",
    "Non-Graded Assignment ini dibuat guna mengevaluasi konsep Linear Algebra sebagai berikut:\n",
    "\n",
    "- Memahami konsep eigenvalue dan eigenvector\n",
    "- Dapat mencari eigenvalue dan eigenvector"
   ]
  },
  {
   "cell_type": "markdown",
   "id": "cf9379fe",
   "metadata": {},
   "source": [
    "#### Library yang digunakan"
   ]
  },
  {
   "cell_type": "code",
   "execution_count": 1,
   "id": "fc932bad",
   "metadata": {},
   "outputs": [],
   "source": [
    "import numpy as np\n",
    "from numpy.linalg import eig"
   ]
  },
  {
   "cell_type": "code",
   "execution_count": 6,
   "id": "641b0539",
   "metadata": {},
   "outputs": [
    {
     "name": "stdout",
     "output_type": "stream",
     "text": [
      "U = \n",
      " [[1]\n",
      " [3]]\n",
      "         \n",
      "A = \n",
      " [[ 1 -1]\n",
      " [ 6 -4]]\n"
     ]
    }
   ],
   "source": [
    "#Melakukan declare vector\n",
    "U = np.array([[1],[3]])\n",
    "A = np.array([[1,-1],\n",
    "              [6,-4]])\n",
    "\n",
    "print(\"U = \\n\", U)\n",
    "print(\"         \")\n",
    "print(\"A = \\n\", A)"
   ]
  },
  {
   "cell_type": "code",
   "execution_count": 8,
   "id": "b1bb547d",
   "metadata": {},
   "outputs": [
    {
     "name": "stdout",
     "output_type": "stream",
     "text": [
      "[-1. -2.]\n",
      "[[0.4472136  0.31622777]\n",
      " [0.89442719 0.9486833 ]]\n"
     ]
    },
    {
     "data": {
      "text/plain": [
       "array([-1., -2.])"
      ]
     },
     "execution_count": 8,
     "metadata": {},
     "output_type": "execute_result"
    }
   ],
   "source": [
    "values, vector = eig(A)\n",
    "print (values)\n",
    "print (vector)\n",
    "values"
   ]
  },
  {
   "cell_type": "code",
   "execution_count": 9,
   "id": "519e49a0",
   "metadata": {},
   "outputs": [
    {
     "name": "stdout",
     "output_type": "stream",
     "text": [
      "[[-2]\n",
      " [-6]]\n"
     ]
    }
   ],
   "source": [
    "# transformasi T : U -> W\n",
    "W = A.dot(U)\n",
    "print(W)"
   ]
  },
  {
   "cell_type": "code",
   "execution_count": 10,
   "id": "88bcc27d",
   "metadata": {},
   "outputs": [
    {
     "name": "stdout",
     "output_type": "stream",
     "text": [
      "[[-1.]\n",
      " [-3.]]\n"
     ]
    }
   ],
   "source": [
    "#Eigen Value 1\n",
    "coba = values[0]*u\n",
    "print(coba)"
   ]
  },
  {
   "cell_type": "code",
   "execution_count": 11,
   "id": "09bfc011",
   "metadata": {},
   "outputs": [
    {
     "data": {
      "text/plain": [
       "array([[1],\n",
       "       [1]])"
      ]
     },
     "execution_count": 11,
     "metadata": {},
     "output_type": "execute_result"
    }
   ],
   "source": [
    "T = np.array([[5,1],\n",
    "              [3,3]])\n",
    "v = np.array([[1],\n",
    "              [1]])\n",
    "T\n",
    "v"
   ]
  },
  {
   "cell_type": "code",
   "execution_count": 12,
   "id": "740bca6d",
   "metadata": {},
   "outputs": [
    {
     "name": "stdout",
     "output_type": "stream",
     "text": [
      "[6. 2.]\n",
      "[[ 0.70710678 -0.31622777]\n",
      " [ 0.70710678  0.9486833 ]]\n"
     ]
    }
   ],
   "source": [
    "x, y = eig(T)\n",
    "print(x)\n",
    "\n",
    "print(y)"
   ]
  },
  {
   "cell_type": "code",
   "execution_count": 13,
   "id": "ab506cba",
   "metadata": {},
   "outputs": [
    {
     "data": {
      "text/plain": [
       "array([[6],\n",
       "       [6]])"
      ]
     },
     "execution_count": 13,
     "metadata": {},
     "output_type": "execute_result"
    }
   ],
   "source": [
    "#hasil dari w adalah\n",
    "result = T.dot(v)\n",
    "result"
   ]
  },
  {
   "cell_type": "code",
   "execution_count": 14,
   "id": "099f5160",
   "metadata": {},
   "outputs": [
    {
     "data": {
      "text/plain": [
       "array([[6],\n",
       "       [6]])"
      ]
     },
     "execution_count": 14,
     "metadata": {},
     "output_type": "execute_result"
    }
   ],
   "source": [
    "6*v"
   ]
  },
  {
   "cell_type": "code",
   "execution_count": null,
   "id": "dac5fa03",
   "metadata": {},
   "outputs": [],
   "source": []
  }
 ],
 "metadata": {
  "kernelspec": {
   "display_name": "Python 3",
   "language": "python",
   "name": "python3"
  },
  "language_info": {
   "codemirror_mode": {
    "name": "ipython",
    "version": 3
   },
   "file_extension": ".py",
   "mimetype": "text/x-python",
   "name": "python",
   "nbconvert_exporter": "python",
   "pygments_lexer": "ipython3",
   "version": "3.8.8"
  }
 },
 "nbformat": 4,
 "nbformat_minor": 5
}
